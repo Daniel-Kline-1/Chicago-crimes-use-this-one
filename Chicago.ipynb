{
 "cells": [
  {
   "cell_type": "code",
   "execution_count": 1,
   "metadata": {},
   "outputs": [],
   "source": [
    "import matplotlib.pyplot as plt\n",
    "import pandas as pd\n",
    "import numpy as np\n",
    "import requests\n",
    "import time\n",
    "from pprint import pprint\n",
    "import csv\n",
    "import math\n",
    "import gmaps\n",
    "\n",
    "# Google developer API key\n",
    "from config import gkey\n",
    "\n",
    "# Access maps with unique API key\n",
    "gmaps.configure(api_key=gkey)"
   ]
  },
  {
   "cell_type": "code",
   "execution_count": 2,
   "metadata": {},
   "outputs": [
    {
     "data": {
      "text/html": [
       "<div>\n",
       "<style scoped>\n",
       "    .dataframe tbody tr th:only-of-type {\n",
       "        vertical-align: middle;\n",
       "    }\n",
       "\n",
       "    .dataframe tbody tr th {\n",
       "        vertical-align: top;\n",
       "    }\n",
       "\n",
       "    .dataframe thead th {\n",
       "        text-align: right;\n",
       "    }\n",
       "</style>\n",
       "<table border=\"1\" class=\"dataframe\">\n",
       "  <thead>\n",
       "    <tr style=\"text-align: right;\">\n",
       "      <th></th>\n",
       "      <th>ID</th>\n",
       "      <th>Case Number</th>\n",
       "      <th>Date</th>\n",
       "      <th>Block</th>\n",
       "      <th>IUCR</th>\n",
       "      <th>Primary Type</th>\n",
       "      <th>Description</th>\n",
       "      <th>Location Description</th>\n",
       "      <th>Arrest</th>\n",
       "      <th>Domestic</th>\n",
       "      <th>...</th>\n",
       "      <th>Ward</th>\n",
       "      <th>Community Area</th>\n",
       "      <th>FBI Code</th>\n",
       "      <th>X Coordinate</th>\n",
       "      <th>Y Coordinate</th>\n",
       "      <th>Year</th>\n",
       "      <th>Updated On</th>\n",
       "      <th>Latitude</th>\n",
       "      <th>Longitude</th>\n",
       "      <th>Location</th>\n",
       "    </tr>\n",
       "  </thead>\n",
       "  <tbody>\n",
       "    <tr>\n",
       "      <th>0</th>\n",
       "      <td>1329893</td>\n",
       "      <td>G025358</td>\n",
       "      <td>1/12/2001 17:30</td>\n",
       "      <td>0000X E 100 PL</td>\n",
       "      <td>420</td>\n",
       "      <td>BATTERY</td>\n",
       "      <td>AGGRAVATED:KNIFE/CUTTING INSTR</td>\n",
       "      <td>RESIDENCE</td>\n",
       "      <td>False</td>\n",
       "      <td>True</td>\n",
       "      <td>...</td>\n",
       "      <td>NaN</td>\n",
       "      <td>NaN</td>\n",
       "      <td>04B</td>\n",
       "      <td>1178432.0</td>\n",
       "      <td>1838311.0</td>\n",
       "      <td>2001</td>\n",
       "      <td>8/17/2015 15:03</td>\n",
       "      <td>41.711629</td>\n",
       "      <td>-87.622141</td>\n",
       "      <td>(41.711628886, -87.622141173)</td>\n",
       "    </tr>\n",
       "    <tr>\n",
       "      <th>1</th>\n",
       "      <td>1329967</td>\n",
       "      <td>G025724</td>\n",
       "      <td>1/12/2001 19:30</td>\n",
       "      <td>0000X E 100 PL</td>\n",
       "      <td>610</td>\n",
       "      <td>BURGLARY</td>\n",
       "      <td>FORCIBLE ENTRY</td>\n",
       "      <td>RESIDENCE</td>\n",
       "      <td>False</td>\n",
       "      <td>False</td>\n",
       "      <td>...</td>\n",
       "      <td>NaN</td>\n",
       "      <td>NaN</td>\n",
       "      <td>5</td>\n",
       "      <td>1178784.0</td>\n",
       "      <td>1838322.0</td>\n",
       "      <td>2001</td>\n",
       "      <td>8/17/2015 15:03</td>\n",
       "      <td>41.711651</td>\n",
       "      <td>-87.620852</td>\n",
       "      <td>(41.711651086, -87.620851734)</td>\n",
       "    </tr>\n",
       "    <tr>\n",
       "      <th>2</th>\n",
       "      <td>1346230</td>\n",
       "      <td>G047389</td>\n",
       "      <td>1/23/2001 8:00</td>\n",
       "      <td>0000X E 100 PL</td>\n",
       "      <td>820</td>\n",
       "      <td>THEFT</td>\n",
       "      <td>$500 AND UNDER</td>\n",
       "      <td>RESIDENCE</td>\n",
       "      <td>False</td>\n",
       "      <td>False</td>\n",
       "      <td>...</td>\n",
       "      <td>NaN</td>\n",
       "      <td>NaN</td>\n",
       "      <td>6</td>\n",
       "      <td>1178566.0</td>\n",
       "      <td>1838395.0</td>\n",
       "      <td>2001</td>\n",
       "      <td>8/17/2015 15:03</td>\n",
       "      <td>41.711856</td>\n",
       "      <td>-87.621648</td>\n",
       "      <td>(41.711856355, -87.621647891)</td>\n",
       "    </tr>\n",
       "    <tr>\n",
       "      <th>3</th>\n",
       "      <td>1347551</td>\n",
       "      <td>G048475</td>\n",
       "      <td>1/23/2001 20:29</td>\n",
       "      <td>0000X E 100 PL</td>\n",
       "      <td>920</td>\n",
       "      <td>MOTOR VEHICLE THEFT</td>\n",
       "      <td>ATT: AUTOMOBILE</td>\n",
       "      <td>STREET</td>\n",
       "      <td>True</td>\n",
       "      <td>False</td>\n",
       "      <td>...</td>\n",
       "      <td>NaN</td>\n",
       "      <td>NaN</td>\n",
       "      <td>7</td>\n",
       "      <td>1178292.0</td>\n",
       "      <td>1838387.0</td>\n",
       "      <td>2001</td>\n",
       "      <td>8/17/2015 15:03</td>\n",
       "      <td>41.711841</td>\n",
       "      <td>-87.622652</td>\n",
       "      <td>(41.711840612, -87.622651588)</td>\n",
       "    </tr>\n",
       "    <tr>\n",
       "      <th>4</th>\n",
       "      <td>1377882</td>\n",
       "      <td>G082031</td>\n",
       "      <td>2/8/2001 21:00</td>\n",
       "      <td>0000X E 100 PL</td>\n",
       "      <td>820</td>\n",
       "      <td>THEFT</td>\n",
       "      <td>$500 AND UNDER</td>\n",
       "      <td>STREET</td>\n",
       "      <td>False</td>\n",
       "      <td>False</td>\n",
       "      <td>...</td>\n",
       "      <td>NaN</td>\n",
       "      <td>NaN</td>\n",
       "      <td>6</td>\n",
       "      <td>1178312.0</td>\n",
       "      <td>1838387.0</td>\n",
       "      <td>2001</td>\n",
       "      <td>8/17/2015 15:03</td>\n",
       "      <td>41.711840</td>\n",
       "      <td>-87.622578</td>\n",
       "      <td>(41.711840159, -87.622578343)</td>\n",
       "    </tr>\n",
       "  </tbody>\n",
       "</table>\n",
       "<p>5 rows × 22 columns</p>\n",
       "</div>"
      ],
      "text/plain": [
       "        ID Case Number             Date           Block IUCR  \\\n",
       "0  1329893     G025358  1/12/2001 17:30  0000X E 100 PL  420   \n",
       "1  1329967     G025724  1/12/2001 19:30  0000X E 100 PL  610   \n",
       "2  1346230     G047389   1/23/2001 8:00  0000X E 100 PL  820   \n",
       "3  1347551     G048475  1/23/2001 20:29  0000X E 100 PL  920   \n",
       "4  1377882     G082031   2/8/2001 21:00  0000X E 100 PL  820   \n",
       "\n",
       "          Primary Type                     Description Location Description  \\\n",
       "0              BATTERY  AGGRAVATED:KNIFE/CUTTING INSTR            RESIDENCE   \n",
       "1             BURGLARY                  FORCIBLE ENTRY            RESIDENCE   \n",
       "2                THEFT                  $500 AND UNDER            RESIDENCE   \n",
       "3  MOTOR VEHICLE THEFT                 ATT: AUTOMOBILE               STREET   \n",
       "4                THEFT                  $500 AND UNDER               STREET   \n",
       "\n",
       "   Arrest  Domestic  ...  Ward  Community Area  FBI Code  X Coordinate  \\\n",
       "0   False      True  ...   NaN             NaN       04B     1178432.0   \n",
       "1   False     False  ...   NaN             NaN         5     1178784.0   \n",
       "2   False     False  ...   NaN             NaN         6     1178566.0   \n",
       "3    True     False  ...   NaN             NaN         7     1178292.0   \n",
       "4   False     False  ...   NaN             NaN         6     1178312.0   \n",
       "\n",
       "  Y Coordinate  Year       Updated On   Latitude  Longitude  \\\n",
       "0    1838311.0  2001  8/17/2015 15:03  41.711629 -87.622141   \n",
       "1    1838322.0  2001  8/17/2015 15:03  41.711651 -87.620852   \n",
       "2    1838395.0  2001  8/17/2015 15:03  41.711856 -87.621648   \n",
       "3    1838387.0  2001  8/17/2015 15:03  41.711841 -87.622652   \n",
       "4    1838387.0  2001  8/17/2015 15:03  41.711840 -87.622578   \n",
       "\n",
       "                        Location  \n",
       "0  (41.711628886, -87.622141173)  \n",
       "1  (41.711651086, -87.620851734)  \n",
       "2  (41.711856355, -87.621647891)  \n",
       "3  (41.711840612, -87.622651588)  \n",
       "4  (41.711840159, -87.622578343)  \n",
       "\n",
       "[5 rows x 22 columns]"
      ]
     },
     "execution_count": 2,
     "metadata": {},
     "output_type": "execute_result"
    }
   ],
   "source": [
    "path = \"Chicago_Crimedata.csv\"\n",
    "path2 = \"Seattle_Crime_Stats_by_Police_Precinct_2008-Present.csv\"\n",
    "df = pd.read_csv(path)\n",
    "#df2 = pd.read_csv(path2)\n",
    "df.head()"
   ]
  },
  {
   "cell_type": "code",
   "execution_count": 3,
   "metadata": {},
   "outputs": [],
   "source": [
    "#df2.columns\n"
   ]
  },
  {
   "cell_type": "code",
   "execution_count": 4,
   "metadata": {},
   "outputs": [],
   "source": [
    "#df2[[\"CRIME_TYPE\",\"CRIME_DESCRIPTION\",\"REPORT_DATE\"]].head()"
   ]
  },
  {
   "cell_type": "code",
   "execution_count": 5,
   "metadata": {},
   "outputs": [],
   "source": [
    "typelist = df[\"Primary Type\"].unique()\n"
   ]
  },
  {
   "cell_type": "code",
   "execution_count": 6,
   "metadata": {},
   "outputs": [
    {
     "data": {
      "text/html": [
       "<div>\n",
       "<style scoped>\n",
       "    .dataframe tbody tr th:only-of-type {\n",
       "        vertical-align: middle;\n",
       "    }\n",
       "\n",
       "    .dataframe tbody tr th {\n",
       "        vertical-align: top;\n",
       "    }\n",
       "\n",
       "    .dataframe thead th {\n",
       "        text-align: right;\n",
       "    }\n",
       "</style>\n",
       "<table border=\"1\" class=\"dataframe\">\n",
       "  <thead>\n",
       "    <tr style=\"text-align: right;\">\n",
       "      <th></th>\n",
       "      <th>ID</th>\n",
       "      <th>Year</th>\n",
       "      <th>Primary Type</th>\n",
       "      <th>Latitude</th>\n",
       "      <th>Longitude</th>\n",
       "      <th>Location</th>\n",
       "      <th>Date</th>\n",
       "      <th>Location Description</th>\n",
       "    </tr>\n",
       "  </thead>\n",
       "  <tbody>\n",
       "    <tr>\n",
       "      <th>0</th>\n",
       "      <td>1329893</td>\n",
       "      <td>2001</td>\n",
       "      <td>BATTERY</td>\n",
       "      <td>41.711629</td>\n",
       "      <td>-87.622141</td>\n",
       "      <td>(41.711628886, -87.622141173)</td>\n",
       "      <td>1/12/2001 17:30</td>\n",
       "      <td>RESIDENCE</td>\n",
       "    </tr>\n",
       "    <tr>\n",
       "      <th>1</th>\n",
       "      <td>1329967</td>\n",
       "      <td>2001</td>\n",
       "      <td>BURGLARY</td>\n",
       "      <td>41.711651</td>\n",
       "      <td>-87.620852</td>\n",
       "      <td>(41.711651086, -87.620851734)</td>\n",
       "      <td>1/12/2001 19:30</td>\n",
       "      <td>RESIDENCE</td>\n",
       "    </tr>\n",
       "    <tr>\n",
       "      <th>2</th>\n",
       "      <td>1346230</td>\n",
       "      <td>2001</td>\n",
       "      <td>THEFT</td>\n",
       "      <td>41.711856</td>\n",
       "      <td>-87.621648</td>\n",
       "      <td>(41.711856355, -87.621647891)</td>\n",
       "      <td>1/23/2001 8:00</td>\n",
       "      <td>RESIDENCE</td>\n",
       "    </tr>\n",
       "    <tr>\n",
       "      <th>3</th>\n",
       "      <td>1347551</td>\n",
       "      <td>2001</td>\n",
       "      <td>MOTOR VEHICLE THEFT</td>\n",
       "      <td>41.711841</td>\n",
       "      <td>-87.622652</td>\n",
       "      <td>(41.711840612, -87.622651588)</td>\n",
       "      <td>1/23/2001 20:29</td>\n",
       "      <td>STREET</td>\n",
       "    </tr>\n",
       "    <tr>\n",
       "      <th>4</th>\n",
       "      <td>1377882</td>\n",
       "      <td>2001</td>\n",
       "      <td>THEFT</td>\n",
       "      <td>41.711840</td>\n",
       "      <td>-87.622578</td>\n",
       "      <td>(41.711840159, -87.622578343)</td>\n",
       "      <td>2/8/2001 21:00</td>\n",
       "      <td>STREET</td>\n",
       "    </tr>\n",
       "  </tbody>\n",
       "</table>\n",
       "</div>"
      ],
      "text/plain": [
       "        ID  Year         Primary Type   Latitude  Longitude  \\\n",
       "0  1329893  2001              BATTERY  41.711629 -87.622141   \n",
       "1  1329967  2001             BURGLARY  41.711651 -87.620852   \n",
       "2  1346230  2001                THEFT  41.711856 -87.621648   \n",
       "3  1347551  2001  MOTOR VEHICLE THEFT  41.711841 -87.622652   \n",
       "4  1377882  2001                THEFT  41.711840 -87.622578   \n",
       "\n",
       "                        Location             Date Location Description  \n",
       "0  (41.711628886, -87.622141173)  1/12/2001 17:30            RESIDENCE  \n",
       "1  (41.711651086, -87.620851734)  1/12/2001 19:30            RESIDENCE  \n",
       "2  (41.711856355, -87.621647891)   1/23/2001 8:00            RESIDENCE  \n",
       "3  (41.711840612, -87.622651588)  1/23/2001 20:29               STREET  \n",
       "4  (41.711840159, -87.622578343)   2/8/2001 21:00               STREET  "
      ]
     },
     "execution_count": 6,
     "metadata": {},
     "output_type": "execute_result"
    }
   ],
   "source": [
    "dff = pd.DataFrame({\n",
    "    \"ID\":df[\"ID\"],\n",
    "    \"Year\":df[\"Year\"],\n",
    "    \"Primary Type\":df[\"Primary Type\"],\n",
    "    \"Latitude\":df[\"Latitude\"],\n",
    "    \"Longitude\":df[\"Longitude\"],\n",
    "    \"Location\":df[\"Location\"],\n",
    "    \"Date\":df[\"Date\"],\n",
    "    \"Location Description\":df[\"Location Description\"]\n",
    "})\n",
    "dff = dff.dropna(how =\"any\")\n",
    "dff.head()\n"
   ]
  },
  {
   "cell_type": "code",
   "execution_count": 7,
   "metadata": {},
   "outputs": [
    {
     "data": {
      "text/plain": [
       "0          (41.711628886, -87.622141173)\n",
       "1          (41.711651086, -87.620851734)\n",
       "2          (41.711856355, -87.621647891)\n",
       "3          (41.711840612, -87.622651588)\n",
       "4          (41.711840159, -87.622578343)\n",
       "5          (41.711846171, -87.622219353)\n",
       "6          (41.711638616, -87.621496469)\n",
       "7          (41.711646483, -87.620994622)\n",
       "8          (41.711646483, -87.620994622)\n",
       "9          (41.711622874, -87.622500162)\n",
       "10          (41.71163306, -87.621928703)\n",
       "11         (41.711844764, -87.622435455)\n",
       "12         (41.711856355, -87.621647891)\n",
       "13          (41.71183689, -87.622937304)\n",
       "14         (41.711634466, -87.621712601)\n",
       "15         (41.711646483, -87.620994622)\n",
       "16         (41.711648796, -87.620925009)\n",
       "17         (41.711648796, -87.620925009)\n",
       "18         (41.711864223, -87.621146043)\n",
       "19         (41.711854496, -87.621790749)\n",
       "20         (41.711860051, -87.621358514)\n",
       "21         (41.711648796, -87.620925009)\n",
       "22         (41.711838752, -87.622794446)\n",
       "23         (41.711852636, -87.621933607)\n",
       "24         (41.711860051, -87.621358514)\n",
       "25         (41.711854042, -87.621717504)\n",
       "26         (41.711642766, -87.621280337)\n",
       "27         (41.711644625, -87.621137479)\n",
       "28         (41.711645078, -87.621210724)\n",
       "29         (41.711750989, -87.621473254)\n",
       "                       ...              \n",
       "1048545    (41.871154572, -87.651165421)\n",
       "1048546    (41.871269845, -87.651167867)\n",
       "1048547    (41.871412559, -87.651170021)\n",
       "1048548    (41.871269845, -87.651167867)\n",
       "1048549    (41.871154572, -87.651165421)\n",
       "1048550    (41.871697135, -87.651031146)\n",
       "1048551    (41.871498519, -87.651319643)\n",
       "1048552     (41.87122594, -87.651168334)\n",
       "1048553    (41.871412559, -87.651170021)\n",
       "1048554    (41.871412559, -87.651170021)\n",
       "1048555    (41.871154572, -87.651165421)\n",
       "1048556     (41.87132747, -87.651167255)\n",
       "1048557     (41.87132747, -87.651167255)\n",
       "1048558    (41.871083204, -87.651162509)\n",
       "1048559    (41.871412559, -87.651170021)\n",
       "1048560    (41.871412559, -87.651170021)\n",
       "1048561    (41.871412559, -87.651170021)\n",
       "1048562     (41.871053019, -87.65116283)\n",
       "1048563     (41.87122594, -87.651168334)\n",
       "1048564     (41.87132747, -87.651167255)\n",
       "1048565    (41.871083204, -87.651162509)\n",
       "1048566    (41.871154572, -87.651165421)\n",
       "1048567    (41.871198477, -87.651164955)\n",
       "1048568    (41.871154572, -87.651165421)\n",
       "1048569    (41.871412559, -87.651170021)\n",
       "1048570    (41.871154572, -87.651165421)\n",
       "1048571    (41.871154572, -87.651165421)\n",
       "1048572    (41.871412559, -87.651170021)\n",
       "1048573     (41.871053019, -87.65116283)\n",
       "1048574     (41.87122594, -87.651168334)\n",
       "Name: Location, Length: 1031678, dtype: object"
      ]
     },
     "execution_count": 7,
     "metadata": {},
     "output_type": "execute_result"
    }
   ],
   "source": [
    "dff.Location"
   ]
  },
  {
   "cell_type": "code",
   "execution_count": 8,
   "metadata": {},
   "outputs": [],
   "source": [
    "typelist = list(dff[\"Primary Type\"].unique())\n",
    "yearlist = list(range(2001,2020))\n",
    "#yearlist\n",
    "\n",
    "        "
   ]
  },
  {
   "cell_type": "code",
   "execution_count": 9,
   "metadata": {},
   "outputs": [
    {
     "ename": "NameError",
     "evalue": "name 'data2001crime' is not defined",
     "output_type": "error",
     "traceback": [
      "\u001b[0;31m---------------------------------------------------------------------------\u001b[0m",
      "\u001b[0;31mNameError\u001b[0m                                 Traceback (most recent call last)",
      "\u001b[0;32m<ipython-input-9-62139ea45cc3>\u001b[0m in \u001b[0;36m<module>\u001b[0;34m\u001b[0m\n\u001b[1;32m      1\u001b[0m \u001b[0mx\u001b[0m \u001b[0;34m=\u001b[0m \u001b[0;36m2\u001b[0m\u001b[0;34m\u001b[0m\u001b[0;34m\u001b[0m\u001b[0m\n\u001b[0;32m----> 2\u001b[0;31m \u001b[0mtheft_data\u001b[0m \u001b[0;34m=\u001b[0m \u001b[0;34m[\u001b[0m\u001b[0mlen\u001b[0m\u001b[0;34m(\u001b[0m\u001b[0mdata2001crime\u001b[0m\u001b[0;34m[\u001b[0m\u001b[0mx\u001b[0m\u001b[0;34m]\u001b[0m\u001b[0;34m)\u001b[0m\u001b[0;34m,\u001b[0m\u001b[0mlen\u001b[0m\u001b[0;34m(\u001b[0m\u001b[0mdata2002crime\u001b[0m\u001b[0;34m[\u001b[0m\u001b[0mx\u001b[0m\u001b[0;34m]\u001b[0m\u001b[0;34m)\u001b[0m\u001b[0;34m,\u001b[0m\u001b[0mlen\u001b[0m\u001b[0;34m(\u001b[0m\u001b[0mdata2003crime\u001b[0m\u001b[0;34m[\u001b[0m\u001b[0mx\u001b[0m\u001b[0;34m]\u001b[0m\u001b[0;34m)\u001b[0m\u001b[0;34m,\u001b[0m\u001b[0mlen\u001b[0m\u001b[0;34m(\u001b[0m\u001b[0mdata2004crime\u001b[0m\u001b[0;34m[\u001b[0m\u001b[0mx\u001b[0m\u001b[0;34m]\u001b[0m\u001b[0;34m)\u001b[0m\u001b[0;34m,\u001b[0m\u001b[0mlen\u001b[0m\u001b[0;34m(\u001b[0m\u001b[0mdata2005crime\u001b[0m\u001b[0;34m[\u001b[0m\u001b[0mx\u001b[0m\u001b[0;34m]\u001b[0m\u001b[0;34m)\u001b[0m\u001b[0;34m,\u001b[0m\u001b[0mlen\u001b[0m\u001b[0;34m(\u001b[0m\u001b[0mdata2006crime\u001b[0m\u001b[0;34m[\u001b[0m\u001b[0mx\u001b[0m\u001b[0;34m]\u001b[0m\u001b[0;34m)\u001b[0m\u001b[0;34m,\u001b[0m\u001b[0mlen\u001b[0m\u001b[0;34m(\u001b[0m\u001b[0mdata2007crime\u001b[0m\u001b[0;34m[\u001b[0m\u001b[0mx\u001b[0m\u001b[0;34m]\u001b[0m\u001b[0;34m)\u001b[0m\u001b[0;34m,\u001b[0m\u001b[0mlen\u001b[0m\u001b[0;34m(\u001b[0m\u001b[0mdata2008crime\u001b[0m\u001b[0;34m[\u001b[0m\u001b[0mx\u001b[0m\u001b[0;34m]\u001b[0m\u001b[0;34m)\u001b[0m\u001b[0;34m,\u001b[0m\u001b[0mlen\u001b[0m\u001b[0;34m(\u001b[0m\u001b[0mdata2009crime\u001b[0m\u001b[0;34m[\u001b[0m\u001b[0mx\u001b[0m\u001b[0;34m]\u001b[0m\u001b[0;34m)\u001b[0m\u001b[0;34m,\u001b[0m\u001b[0mlen\u001b[0m\u001b[0;34m(\u001b[0m\u001b[0mdata2010crime\u001b[0m\u001b[0;34m[\u001b[0m\u001b[0mx\u001b[0m\u001b[0;34m]\u001b[0m\u001b[0;34m)\u001b[0m\u001b[0;34m,\u001b[0m\u001b[0mlen\u001b[0m\u001b[0;34m(\u001b[0m\u001b[0mdata2011crime\u001b[0m\u001b[0;34m[\u001b[0m\u001b[0mx\u001b[0m\u001b[0;34m]\u001b[0m\u001b[0;34m)\u001b[0m\u001b[0;34m,\u001b[0m\u001b[0mlen\u001b[0m\u001b[0;34m(\u001b[0m\u001b[0mdata2012crime\u001b[0m\u001b[0;34m[\u001b[0m\u001b[0mx\u001b[0m\u001b[0;34m]\u001b[0m\u001b[0;34m)\u001b[0m\u001b[0;34m,\u001b[0m\u001b[0mlen\u001b[0m\u001b[0;34m(\u001b[0m\u001b[0mdata2013crime\u001b[0m\u001b[0;34m[\u001b[0m\u001b[0mx\u001b[0m\u001b[0;34m]\u001b[0m\u001b[0;34m)\u001b[0m\u001b[0;34m,\u001b[0m\u001b[0mlen\u001b[0m\u001b[0;34m(\u001b[0m\u001b[0mdata2014crime\u001b[0m\u001b[0;34m[\u001b[0m\u001b[0mx\u001b[0m\u001b[0;34m]\u001b[0m\u001b[0;34m)\u001b[0m\u001b[0;34m,\u001b[0m\u001b[0mlen\u001b[0m\u001b[0;34m(\u001b[0m\u001b[0mdata2015crime\u001b[0m\u001b[0;34m[\u001b[0m\u001b[0mx\u001b[0m\u001b[0;34m]\u001b[0m\u001b[0;34m)\u001b[0m\u001b[0;34m,\u001b[0m\u001b[0mlen\u001b[0m\u001b[0;34m(\u001b[0m\u001b[0mdata2016crime\u001b[0m\u001b[0;34m[\u001b[0m\u001b[0mx\u001b[0m\u001b[0;34m]\u001b[0m\u001b[0;34m)\u001b[0m\u001b[0;34m,\u001b[0m\u001b[0mlen\u001b[0m\u001b[0;34m(\u001b[0m\u001b[0mdata2017crime\u001b[0m\u001b[0;34m[\u001b[0m\u001b[0mx\u001b[0m\u001b[0;34m]\u001b[0m\u001b[0;34m)\u001b[0m\u001b[0;34m,\u001b[0m\u001b[0mlen\u001b[0m\u001b[0;34m(\u001b[0m\u001b[0mdata2018crime\u001b[0m\u001b[0;34m[\u001b[0m\u001b[0mx\u001b[0m\u001b[0;34m]\u001b[0m\u001b[0;34m)\u001b[0m\u001b[0;34m]\u001b[0m\u001b[0;34m\u001b[0m\u001b[0;34m\u001b[0m\u001b[0m\n\u001b[0m\u001b[1;32m      3\u001b[0m \u001b[0;34m\u001b[0m\u001b[0m\n\u001b[1;32m      4\u001b[0m \u001b[0;34m\u001b[0m\u001b[0m\n\u001b[1;32m      5\u001b[0m \u001b[0;34m\u001b[0m\u001b[0m\n",
      "\u001b[0;31mNameError\u001b[0m: name 'data2001crime' is not defined"
     ]
    }
   ],
   "source": [
    "x = 2\n",
    "theft_data = [len(data2001crime[x]),len(data2002crime[x]),len(data2003crime[x]),len(data2004crime[x]),len(data2005crime[x]),len(data2006crime[x]),len(data2007crime[x]),len(data2008crime[x]),len(data2009crime[x]),len(data2010crime[x]),len(data2011crime[x]),len(data2012crime[x]),len(data2013crime[x]),len(data2014crime[x]),len(data2015crime[x]),len(data2016crime[x]),len(data2017crime[x]),len(data2018crime[x])]\n",
    "\n",
    "\n",
    "\n",
    "plt.plot(list(range(2001,2019)), theft_data)\n",
    "\n",
    "#plt.title(\"Tempature vs Latitude\")\n",
    "#plt.xlabel(\"Latitude\")\n",
    "#plt.ylabel(\"Tempature\")\n",
    "\n",
    "\n",
    "\n",
    "\n"
   ]
  },
  {
   "cell_type": "code",
   "execution_count": 10,
   "metadata": {},
   "outputs": [
    {
     "ename": "NameError",
     "evalue": "name 'data2001crime' is not defined",
     "output_type": "error",
     "traceback": [
      "\u001b[0;31m---------------------------------------------------------------------------\u001b[0m",
      "\u001b[0;31mNameError\u001b[0m                                 Traceback (most recent call last)",
      "\u001b[0;32m<ipython-input-10-a116625634b2>\u001b[0m in \u001b[0;36m<module>\u001b[0;34m\u001b[0m\n\u001b[0;32m----> 1\u001b[0;31m \u001b[0mlen\u001b[0m\u001b[0;34m(\u001b[0m\u001b[0mdata2001crime\u001b[0m\u001b[0;34m[\u001b[0m\u001b[0;36m2\u001b[0m\u001b[0;34m]\u001b[0m\u001b[0;34m)\u001b[0m\u001b[0;34m\u001b[0m\u001b[0;34m\u001b[0m\u001b[0m\n\u001b[0m",
      "\u001b[0;31mNameError\u001b[0m: name 'data2001crime' is not defined"
     ]
    }
   ],
   "source": [
    "len(data2001crime[2])"
   ]
  },
  {
   "cell_type": "code",
   "execution_count": 11,
   "metadata": {},
   "outputs": [],
   "source": [
    "years_data = []\n",
    "both_data = []\n",
    "data2001 = dff.loc[dff[\"Year\"]==2001,:]\n",
    "data2002 = dff.loc[dff[\"Year\"]==2002,:]\n",
    "data2003 = dff.loc[dff[\"Year\"]==2003,:]\n",
    "data2004 = dff.loc[dff[\"Year\"]==2004,:]\n",
    "data2005 = dff.loc[dff[\"Year\"]==2005,:]\n",
    "data2006 = dff.loc[dff[\"Year\"]==2006,:]\n",
    "data2007 = dff.loc[dff[\"Year\"]==2007,:]\n",
    "data2008 = dff.loc[dff[\"Year\"]==2008,:]\n",
    "data2009 = dff.loc[dff[\"Year\"]==2009,:]\n",
    "data2010 = dff.loc[dff[\"Year\"]==2010,:]\n",
    "data2011 = dff.loc[dff[\"Year\"]==2011,:]\n",
    "data2012 = dff.loc[dff[\"Year\"]==2012,:]\n",
    "data2013 = dff.loc[dff[\"Year\"]==2013,:]\n",
    "data2014 =dff.loc[dff[\"Year\"]==2014,:]\n",
    "data2015 = dff.loc[dff[\"Year\"]==2015,:]\n",
    "data2016 = dff.loc[dff[\"Year\"]==2016,:]\n",
    "data2017 = dff.loc[dff[\"Year\"]==2017,:]\n",
    "data2018 = dff.loc[dff[\"Year\"]==2018,:]\n",
    "data2019 = dff.loc[dff[\"Year\"]==2019,:]\n",
    "\n",
    "\n",
    "data2001crime = []\n",
    "data2002crime = []\n",
    "data2003crime = []\n",
    "data2004crime = []\n",
    "data2005crime = []\n",
    "data2006crime = []\n",
    "data2007crime = []\n",
    "data2008crime = []\n",
    "data2009crime = []\n",
    "data2010crime = []\n",
    "data2011crime = []\n",
    "data2012crime = []\n",
    "data2013crime = []\n",
    "data2014crime = []\n",
    "data2015crime = []\n",
    "data2016crime = []\n",
    "data2017crime = []\n",
    "data2018crime = []\n",
    "data2019crime = []\n",
    "\n",
    "\n",
    "for crime in typelist:\n",
    "    data2001crime.append(data2001.loc[data2001[\"Primary Type\"] == crime,:])\n",
    "    data2002crime.append(data2002.loc[data2002[\"Primary Type\"] == crime,:])\n",
    "    data2003crime.append(data2003.loc[data2003[\"Primary Type\"] == crime,:])\n",
    "    data2004crime.append(data2004.loc[data2004[\"Primary Type\"] == crime,:])\n",
    "    data2005crime.append(data2005.loc[data2005[\"Primary Type\"] == crime,:])\n",
    "    data2006crime.append(data2006.loc[data2006[\"Primary Type\"] == crime,:])\n",
    "    data2007crime.append(data2007.loc[data2007[\"Primary Type\"] == crime,:])\n",
    "    data2008crime.append(data2008.loc[data2008[\"Primary Type\"] == crime,:])\n",
    "    data2009crime.append(data2009.loc[data2009[\"Primary Type\"] == crime,:])\n",
    "    data2010crime.append(data2010.loc[data2010[\"Primary Type\"] == crime,:])\n",
    "    data2011crime.append(data2011.loc[data2011[\"Primary Type\"] == crime,:])\n",
    "    data2012crime.append(data2012.loc[data2012[\"Primary Type\"] == crime,:])\n",
    "    data2013crime.append(data2013.loc[data2013[\"Primary Type\"] == crime,:])\n",
    "    data2014crime.append(data2014.loc[data2014[\"Primary Type\"] == crime,:])\n",
    "    data2015crime.append(data2015.loc[data2015[\"Primary Type\"] == crime,:])\n",
    "    data2016crime.append(data2016.loc[data2016[\"Primary Type\"] == crime,:])\n",
    "    data2017crime.append(data2017.loc[data2017[\"Primary Type\"] == crime,:])\n",
    "    data2018crime.append(data2018.loc[data2018[\"Primary Type\"] == crime,:])\n",
    "    data2019crime.append(data2019.loc[data2019[\"Primary Type\"] == crime,:])\n",
    "   "
   ]
  },
  {
   "cell_type": "code",
   "execution_count": 12,
   "metadata": {
    "scrolled": true
   },
   "outputs": [],
   "source": [
    "\n",
    "\n",
    "data2019.head()\n",
    "len(data2019)\n",
    "one_list = []\n",
    "for xx in list(range(0,len(data2019))):\n",
    "    one_list.append(1)"
   ]
  },
  {
   "cell_type": "code",
   "execution_count": 13,
   "metadata": {},
   "outputs": [
    {
     "ename": "ValueError",
     "evalue": "too many values to unpack (expected 2)",
     "output_type": "error",
     "traceback": [
      "\u001b[0;31m---------------------------------------------------------------------------\u001b[0m",
      "\u001b[0;31mAttributeError\u001b[0m                            Traceback (most recent call last)",
      "\u001b[0;32m/anaconda3/envs/PythonData/lib/python3.6/site-packages/gmaps/locations.py\u001b[0m in \u001b[0;36mlocations_to_list\u001b[0;34m(locations)\u001b[0m\n\u001b[1;32m     10\u001b[0m     \u001b[0;32mtry\u001b[0m\u001b[0;34m:\u001b[0m\u001b[0;34m\u001b[0m\u001b[0;34m\u001b[0m\u001b[0m\n\u001b[0;32m---> 11\u001b[0;31m         \u001b[0mlocation_tuples\u001b[0m \u001b[0;34m=\u001b[0m \u001b[0mlocations\u001b[0m\u001b[0;34m.\u001b[0m\u001b[0mitertuples\u001b[0m\u001b[0;34m(\u001b[0m\u001b[0;34m)\u001b[0m  \u001b[0;31m# locations is a dataframe\u001b[0m\u001b[0;34m\u001b[0m\u001b[0;34m\u001b[0m\u001b[0m\n\u001b[0m\u001b[1;32m     12\u001b[0m         locations_as_list = [\n",
      "\u001b[0;32m/anaconda3/envs/PythonData/lib/python3.6/site-packages/pandas/core/generic.py\u001b[0m in \u001b[0;36m__getattr__\u001b[0;34m(self, name)\u001b[0m\n\u001b[1;32m   5066\u001b[0m                 \u001b[0;32mreturn\u001b[0m \u001b[0mself\u001b[0m\u001b[0;34m[\u001b[0m\u001b[0mname\u001b[0m\u001b[0;34m]\u001b[0m\u001b[0;34m\u001b[0m\u001b[0;34m\u001b[0m\u001b[0m\n\u001b[0;32m-> 5067\u001b[0;31m             \u001b[0;32mreturn\u001b[0m \u001b[0mobject\u001b[0m\u001b[0;34m.\u001b[0m\u001b[0m__getattribute__\u001b[0m\u001b[0;34m(\u001b[0m\u001b[0mself\u001b[0m\u001b[0;34m,\u001b[0m \u001b[0mname\u001b[0m\u001b[0;34m)\u001b[0m\u001b[0;34m\u001b[0m\u001b[0;34m\u001b[0m\u001b[0m\n\u001b[0m\u001b[1;32m   5068\u001b[0m \u001b[0;34m\u001b[0m\u001b[0m\n",
      "\u001b[0;31mAttributeError\u001b[0m: 'Series' object has no attribute 'itertuples'",
      "\nDuring handling of the above exception, another exception occurred:\n",
      "\u001b[0;31mValueError\u001b[0m                                Traceback (most recent call last)",
      "\u001b[0;32m<ipython-input-13-596e31aaba32>\u001b[0m in \u001b[0;36m<module>\u001b[0;34m\u001b[0m\n\u001b[1;32m      5\u001b[0m heat_layer = gmaps.heatmap_layer(locations, weights=one_list, \n\u001b[1;32m      6\u001b[0m                                  \u001b[0mdissipating\u001b[0m\u001b[0;34m=\u001b[0m\u001b[0;32mFalse\u001b[0m\u001b[0;34m,\u001b[0m \u001b[0mmax_intensity\u001b[0m\u001b[0;34m=\u001b[0m\u001b[0;36m100\u001b[0m\u001b[0;34m,\u001b[0m\u001b[0;34m\u001b[0m\u001b[0;34m\u001b[0m\u001b[0m\n\u001b[0;32m----> 7\u001b[0;31m                                  point_radius = 1)\n\u001b[0m\u001b[1;32m      8\u001b[0m \u001b[0;34m\u001b[0m\u001b[0m\n\u001b[1;32m      9\u001b[0m \u001b[0;31m# Adjust heat_layer setting to help with heatmap dissipating on zoom\u001b[0m\u001b[0;34m\u001b[0m\u001b[0;34m\u001b[0m\u001b[0;34m\u001b[0m\u001b[0m\n",
      "\u001b[0;32m/anaconda3/envs/PythonData/lib/python3.6/site-packages/gmaps/heatmap.py\u001b[0m in \u001b[0;36mheatmap_layer\u001b[0;34m(locations, weights, max_intensity, dissipating, point_radius, opacity, gradient)\u001b[0m\n\u001b[1;32m    267\u001b[0m     )\n\u001b[1;32m    268\u001b[0m     \u001b[0;32mif\u001b[0m \u001b[0mis_weighted\u001b[0m\u001b[0;34m:\u001b[0m\u001b[0;34m\u001b[0m\u001b[0;34m\u001b[0m\u001b[0m\n\u001b[0;32m--> 269\u001b[0;31m         \u001b[0;32mreturn\u001b[0m \u001b[0mWeightedHeatmap\u001b[0m\u001b[0;34m(\u001b[0m\u001b[0;34m**\u001b[0m\u001b[0mwidget_args\u001b[0m\u001b[0;34m)\u001b[0m\u001b[0;34m\u001b[0m\u001b[0;34m\u001b[0m\u001b[0m\n\u001b[0m\u001b[1;32m    270\u001b[0m     \u001b[0;32melse\u001b[0m\u001b[0;34m:\u001b[0m\u001b[0;34m\u001b[0m\u001b[0;34m\u001b[0m\u001b[0m\n\u001b[1;32m    271\u001b[0m         \u001b[0;32mreturn\u001b[0m \u001b[0mHeatmap\u001b[0m\u001b[0;34m(\u001b[0m\u001b[0;34m**\u001b[0m\u001b[0mwidget_args\u001b[0m\u001b[0;34m)\u001b[0m\u001b[0;34m\u001b[0m\u001b[0;34m\u001b[0m\u001b[0m\n",
      "\u001b[0;32m/anaconda3/envs/PythonData/lib/python3.6/site-packages/ipywidgets/widgets/widget.py\u001b[0m in \u001b[0;36m__init__\u001b[0;34m(self, **kwargs)\u001b[0m\n\u001b[1;32m    409\u001b[0m         \u001b[0;34m\"\"\"Public constructor\"\"\"\u001b[0m\u001b[0;34m\u001b[0m\u001b[0;34m\u001b[0m\u001b[0m\n\u001b[1;32m    410\u001b[0m         \u001b[0mself\u001b[0m\u001b[0;34m.\u001b[0m\u001b[0m_model_id\u001b[0m \u001b[0;34m=\u001b[0m \u001b[0mkwargs\u001b[0m\u001b[0;34m.\u001b[0m\u001b[0mpop\u001b[0m\u001b[0;34m(\u001b[0m\u001b[0;34m'model_id'\u001b[0m\u001b[0;34m,\u001b[0m \u001b[0;32mNone\u001b[0m\u001b[0;34m)\u001b[0m\u001b[0;34m\u001b[0m\u001b[0;34m\u001b[0m\u001b[0m\n\u001b[0;32m--> 411\u001b[0;31m         \u001b[0msuper\u001b[0m\u001b[0;34m(\u001b[0m\u001b[0mWidget\u001b[0m\u001b[0;34m,\u001b[0m \u001b[0mself\u001b[0m\u001b[0;34m)\u001b[0m\u001b[0;34m.\u001b[0m\u001b[0m__init__\u001b[0m\u001b[0;34m(\u001b[0m\u001b[0;34m**\u001b[0m\u001b[0mkwargs\u001b[0m\u001b[0;34m)\u001b[0m\u001b[0;34m\u001b[0m\u001b[0;34m\u001b[0m\u001b[0m\n\u001b[0m\u001b[1;32m    412\u001b[0m \u001b[0;34m\u001b[0m\u001b[0m\n\u001b[1;32m    413\u001b[0m         \u001b[0mWidget\u001b[0m\u001b[0;34m.\u001b[0m\u001b[0m_call_widget_constructed\u001b[0m\u001b[0;34m(\u001b[0m\u001b[0mself\u001b[0m\u001b[0;34m)\u001b[0m\u001b[0;34m\u001b[0m\u001b[0;34m\u001b[0m\u001b[0m\n",
      "\u001b[0;32m/anaconda3/envs/PythonData/lib/python3.6/site-packages/traitlets/traitlets.py\u001b[0m in \u001b[0;36m__init__\u001b[0;34m(self, *args, **kwargs)\u001b[0m\n\u001b[1;32m    995\u001b[0m             \u001b[0;32mfor\u001b[0m \u001b[0mkey\u001b[0m\u001b[0;34m,\u001b[0m \u001b[0mvalue\u001b[0m \u001b[0;32min\u001b[0m \u001b[0mkwargs\u001b[0m\u001b[0;34m.\u001b[0m\u001b[0mitems\u001b[0m\u001b[0;34m(\u001b[0m\u001b[0;34m)\u001b[0m\u001b[0;34m:\u001b[0m\u001b[0;34m\u001b[0m\u001b[0;34m\u001b[0m\u001b[0m\n\u001b[1;32m    996\u001b[0m                 \u001b[0;32mif\u001b[0m \u001b[0mself\u001b[0m\u001b[0;34m.\u001b[0m\u001b[0mhas_trait\u001b[0m\u001b[0;34m(\u001b[0m\u001b[0mkey\u001b[0m\u001b[0;34m)\u001b[0m\u001b[0;34m:\u001b[0m\u001b[0;34m\u001b[0m\u001b[0;34m\u001b[0m\u001b[0m\n\u001b[0;32m--> 997\u001b[0;31m                     \u001b[0msetattr\u001b[0m\u001b[0;34m(\u001b[0m\u001b[0mself\u001b[0m\u001b[0;34m,\u001b[0m \u001b[0mkey\u001b[0m\u001b[0;34m,\u001b[0m \u001b[0mvalue\u001b[0m\u001b[0;34m)\u001b[0m\u001b[0;34m\u001b[0m\u001b[0;34m\u001b[0m\u001b[0m\n\u001b[0m\u001b[1;32m    998\u001b[0m                 \u001b[0;32melse\u001b[0m\u001b[0;34m:\u001b[0m\u001b[0;34m\u001b[0m\u001b[0;34m\u001b[0m\u001b[0m\n\u001b[1;32m    999\u001b[0m                     \u001b[0;31m# passthrough args that don't set traits to super\u001b[0m\u001b[0;34m\u001b[0m\u001b[0;34m\u001b[0m\u001b[0;34m\u001b[0m\u001b[0m\n",
      "\u001b[0;32m/anaconda3/envs/PythonData/lib/python3.6/site-packages/traitlets/traitlets.py\u001b[0m in \u001b[0;36m__set__\u001b[0;34m(self, obj, value)\u001b[0m\n\u001b[1;32m    583\u001b[0m             \u001b[0;32mraise\u001b[0m \u001b[0mTraitError\u001b[0m\u001b[0;34m(\u001b[0m\u001b[0;34m'The \"%s\" trait is read-only.'\u001b[0m \u001b[0;34m%\u001b[0m \u001b[0mself\u001b[0m\u001b[0;34m.\u001b[0m\u001b[0mname\u001b[0m\u001b[0;34m)\u001b[0m\u001b[0;34m\u001b[0m\u001b[0;34m\u001b[0m\u001b[0m\n\u001b[1;32m    584\u001b[0m         \u001b[0;32melse\u001b[0m\u001b[0;34m:\u001b[0m\u001b[0;34m\u001b[0m\u001b[0;34m\u001b[0m\u001b[0m\n\u001b[0;32m--> 585\u001b[0;31m             \u001b[0mself\u001b[0m\u001b[0;34m.\u001b[0m\u001b[0mset\u001b[0m\u001b[0;34m(\u001b[0m\u001b[0mobj\u001b[0m\u001b[0;34m,\u001b[0m \u001b[0mvalue\u001b[0m\u001b[0;34m)\u001b[0m\u001b[0;34m\u001b[0m\u001b[0;34m\u001b[0m\u001b[0m\n\u001b[0m\u001b[1;32m    586\u001b[0m \u001b[0;34m\u001b[0m\u001b[0m\n\u001b[1;32m    587\u001b[0m     \u001b[0;32mdef\u001b[0m \u001b[0m_validate\u001b[0m\u001b[0;34m(\u001b[0m\u001b[0mself\u001b[0m\u001b[0;34m,\u001b[0m \u001b[0mobj\u001b[0m\u001b[0;34m,\u001b[0m \u001b[0mvalue\u001b[0m\u001b[0;34m)\u001b[0m\u001b[0;34m:\u001b[0m\u001b[0;34m\u001b[0m\u001b[0;34m\u001b[0m\u001b[0m\n",
      "\u001b[0;32m/anaconda3/envs/PythonData/lib/python3.6/site-packages/traitlets/traitlets.py\u001b[0m in \u001b[0;36mset\u001b[0;34m(self, obj, value)\u001b[0m\n\u001b[1;32m    557\u001b[0m \u001b[0;34m\u001b[0m\u001b[0m\n\u001b[1;32m    558\u001b[0m     \u001b[0;32mdef\u001b[0m \u001b[0mset\u001b[0m\u001b[0;34m(\u001b[0m\u001b[0mself\u001b[0m\u001b[0;34m,\u001b[0m \u001b[0mobj\u001b[0m\u001b[0;34m,\u001b[0m \u001b[0mvalue\u001b[0m\u001b[0;34m)\u001b[0m\u001b[0;34m:\u001b[0m\u001b[0;34m\u001b[0m\u001b[0;34m\u001b[0m\u001b[0m\n\u001b[0;32m--> 559\u001b[0;31m         \u001b[0mnew_value\u001b[0m \u001b[0;34m=\u001b[0m \u001b[0mself\u001b[0m\u001b[0;34m.\u001b[0m\u001b[0m_validate\u001b[0m\u001b[0;34m(\u001b[0m\u001b[0mobj\u001b[0m\u001b[0;34m,\u001b[0m \u001b[0mvalue\u001b[0m\u001b[0;34m)\u001b[0m\u001b[0;34m\u001b[0m\u001b[0;34m\u001b[0m\u001b[0m\n\u001b[0m\u001b[1;32m    560\u001b[0m         \u001b[0;32mtry\u001b[0m\u001b[0;34m:\u001b[0m\u001b[0;34m\u001b[0m\u001b[0;34m\u001b[0m\u001b[0m\n\u001b[1;32m    561\u001b[0m             \u001b[0mold_value\u001b[0m \u001b[0;34m=\u001b[0m \u001b[0mobj\u001b[0m\u001b[0;34m.\u001b[0m\u001b[0m_trait_values\u001b[0m\u001b[0;34m[\u001b[0m\u001b[0mself\u001b[0m\u001b[0;34m.\u001b[0m\u001b[0mname\u001b[0m\u001b[0;34m]\u001b[0m\u001b[0;34m\u001b[0m\u001b[0;34m\u001b[0m\u001b[0m\n",
      "\u001b[0;32m/anaconda3/envs/PythonData/lib/python3.6/site-packages/traitlets/traitlets.py\u001b[0m in \u001b[0;36m_validate\u001b[0;34m(self, obj, value)\u001b[0m\n\u001b[1;32m    589\u001b[0m             \u001b[0;32mreturn\u001b[0m \u001b[0mvalue\u001b[0m\u001b[0;34m\u001b[0m\u001b[0;34m\u001b[0m\u001b[0m\n\u001b[1;32m    590\u001b[0m         \u001b[0;32mif\u001b[0m \u001b[0mhasattr\u001b[0m\u001b[0;34m(\u001b[0m\u001b[0mself\u001b[0m\u001b[0;34m,\u001b[0m \u001b[0;34m'validate'\u001b[0m\u001b[0;34m)\u001b[0m\u001b[0;34m:\u001b[0m\u001b[0;34m\u001b[0m\u001b[0;34m\u001b[0m\u001b[0m\n\u001b[0;32m--> 591\u001b[0;31m             \u001b[0mvalue\u001b[0m \u001b[0;34m=\u001b[0m \u001b[0mself\u001b[0m\u001b[0;34m.\u001b[0m\u001b[0mvalidate\u001b[0m\u001b[0;34m(\u001b[0m\u001b[0mobj\u001b[0m\u001b[0;34m,\u001b[0m \u001b[0mvalue\u001b[0m\u001b[0;34m)\u001b[0m\u001b[0;34m\u001b[0m\u001b[0;34m\u001b[0m\u001b[0m\n\u001b[0m\u001b[1;32m    592\u001b[0m         \u001b[0;32mif\u001b[0m \u001b[0mobj\u001b[0m\u001b[0;34m.\u001b[0m\u001b[0m_cross_validation_lock\u001b[0m \u001b[0;32mis\u001b[0m \u001b[0;32mFalse\u001b[0m\u001b[0;34m:\u001b[0m\u001b[0;34m\u001b[0m\u001b[0;34m\u001b[0m\u001b[0m\n\u001b[1;32m    593\u001b[0m             \u001b[0mvalue\u001b[0m \u001b[0;34m=\u001b[0m \u001b[0mself\u001b[0m\u001b[0;34m.\u001b[0m\u001b[0m_cross_validate\u001b[0m\u001b[0;34m(\u001b[0m\u001b[0mobj\u001b[0m\u001b[0;34m,\u001b[0m \u001b[0mvalue\u001b[0m\u001b[0;34m)\u001b[0m\u001b[0;34m\u001b[0m\u001b[0;34m\u001b[0m\u001b[0m\n",
      "\u001b[0;32m/anaconda3/envs/PythonData/lib/python3.6/site-packages/gmaps/geotraitlets.py\u001b[0m in \u001b[0;36mvalidate\u001b[0;34m(self, obj, value)\u001b[0m\n\u001b[1;32m     22\u001b[0m         \u001b[0;32mif\u001b[0m \u001b[0mvalue\u001b[0m \u001b[0;32mis\u001b[0m \u001b[0;32mNone\u001b[0m\u001b[0;34m:\u001b[0m\u001b[0;34m\u001b[0m\u001b[0;34m\u001b[0m\u001b[0m\n\u001b[1;32m     23\u001b[0m             \u001b[0;32mreturn\u001b[0m \u001b[0msuper\u001b[0m\u001b[0;34m(\u001b[0m\u001b[0mLocationArray\u001b[0m\u001b[0;34m,\u001b[0m \u001b[0mself\u001b[0m\u001b[0;34m)\u001b[0m\u001b[0;34m.\u001b[0m\u001b[0mvalidate\u001b[0m\u001b[0;34m(\u001b[0m\u001b[0mobj\u001b[0m\u001b[0;34m,\u001b[0m \u001b[0mvalue\u001b[0m\u001b[0;34m)\u001b[0m\u001b[0;34m\u001b[0m\u001b[0;34m\u001b[0m\u001b[0m\n\u001b[0;32m---> 24\u001b[0;31m         \u001b[0mlocations_as_list\u001b[0m \u001b[0;34m=\u001b[0m \u001b[0mlocations_to_list\u001b[0m\u001b[0;34m(\u001b[0m\u001b[0mvalue\u001b[0m\u001b[0;34m)\u001b[0m\u001b[0;34m\u001b[0m\u001b[0;34m\u001b[0m\u001b[0m\n\u001b[0m\u001b[1;32m     25\u001b[0m         \u001b[0;32mfor\u001b[0m \u001b[0mlocation\u001b[0m \u001b[0;32min\u001b[0m \u001b[0mlocations_as_list\u001b[0m\u001b[0;34m:\u001b[0m\u001b[0;34m\u001b[0m\u001b[0;34m\u001b[0m\u001b[0m\n\u001b[1;32m     26\u001b[0m             \u001b[0mlatitude\u001b[0m\u001b[0;34m,\u001b[0m \u001b[0mlongitude\u001b[0m \u001b[0;34m=\u001b[0m \u001b[0mlocation\u001b[0m\u001b[0;34m\u001b[0m\u001b[0;34m\u001b[0m\u001b[0m\n",
      "\u001b[0;32m/anaconda3/envs/PythonData/lib/python3.6/site-packages/gmaps/locations.py\u001b[0m in \u001b[0;36mlocations_to_list\u001b[0;34m(locations)\u001b[0m\n\u001b[1;32m     17\u001b[0m         locations_as_list = [\n\u001b[1;32m     18\u001b[0m             \u001b[0;34m(\u001b[0m\u001b[0mlatitude\u001b[0m\u001b[0;34m,\u001b[0m \u001b[0mlongitude\u001b[0m\u001b[0;34m)\u001b[0m \u001b[0;32mfor\u001b[0m \u001b[0;34m(\u001b[0m\u001b[0mlatitude\u001b[0m\u001b[0;34m,\u001b[0m \u001b[0mlongitude\u001b[0m\u001b[0;34m)\u001b[0m\u001b[0;34m\u001b[0m\u001b[0;34m\u001b[0m\u001b[0m\n\u001b[0;32m---> 19\u001b[0;31m             \u001b[0;32min\u001b[0m \u001b[0mlocations\u001b[0m\u001b[0;34m\u001b[0m\u001b[0;34m\u001b[0m\u001b[0m\n\u001b[0m\u001b[1;32m     20\u001b[0m         ]\n\u001b[1;32m     21\u001b[0m     \u001b[0;32mreturn\u001b[0m \u001b[0mlocations_as_list\u001b[0m\u001b[0;34m\u001b[0m\u001b[0;34m\u001b[0m\u001b[0m\n",
      "\u001b[0;32m/anaconda3/envs/PythonData/lib/python3.6/site-packages/gmaps/locations.py\u001b[0m in \u001b[0;36m<listcomp>\u001b[0;34m(.0)\u001b[0m\n\u001b[1;32m     16\u001b[0m     \u001b[0;32mexcept\u001b[0m \u001b[0mAttributeError\u001b[0m\u001b[0;34m:\u001b[0m\u001b[0;34m\u001b[0m\u001b[0;34m\u001b[0m\u001b[0m\n\u001b[1;32m     17\u001b[0m         locations_as_list = [\n\u001b[0;32m---> 18\u001b[0;31m             \u001b[0;34m(\u001b[0m\u001b[0mlatitude\u001b[0m\u001b[0;34m,\u001b[0m \u001b[0mlongitude\u001b[0m\u001b[0;34m)\u001b[0m \u001b[0;32mfor\u001b[0m \u001b[0;34m(\u001b[0m\u001b[0mlatitude\u001b[0m\u001b[0;34m,\u001b[0m \u001b[0mlongitude\u001b[0m\u001b[0;34m)\u001b[0m\u001b[0;34m\u001b[0m\u001b[0;34m\u001b[0m\u001b[0m\n\u001b[0m\u001b[1;32m     19\u001b[0m             \u001b[0;32min\u001b[0m \u001b[0mlocations\u001b[0m\u001b[0;34m\u001b[0m\u001b[0;34m\u001b[0m\u001b[0m\n\u001b[1;32m     20\u001b[0m         ]\n",
      "\u001b[0;31mValueError\u001b[0m: too many values to unpack (expected 2)"
     ]
    }
   ],
   "source": [
    "locations = data2019.Location\n",
    "gmaps.configure(api_key=gkey)\n",
    "fig = gmaps.figure()\n",
    "\n",
    "heat_layer = gmaps.heatmap_layer(locations, weights=one_list, \n",
    "                                 dissipating=False, max_intensity=100,\n",
    "                                 point_radius = 1)\n",
    "\n",
    "# Adjust heat_layer setting to help with heatmap dissipating on zoom\n",
    "heat_layer.dissipating = False\n",
    "heat_layer.max_intensity = 100\n",
    "heat_layer.point_radius = 1\n",
    "\n",
    "fig.add_layer(heat_layer)\n",
    "\n",
    "fig"
   ]
  },
  {
   "cell_type": "code",
   "execution_count": 14,
   "metadata": {},
   "outputs": [],
   "source": [
    "type_data = []\n",
    "type_list = list(dff[\"Primary Type\"].unique())\n",
    "\n",
    "for types in type_list:\n",
    "    type_data.append(dff.loc[dff[\"Primary Type\"] == types,:])\n"
   ]
  },
  {
   "cell_type": "code",
   "execution_count": 15,
   "metadata": {
    "scrolled": true
   },
   "outputs": [
    {
     "data": {
      "text/plain": [
       "['BATTERY',\n",
       " 'BURGLARY',\n",
       " 'THEFT',\n",
       " 'MOTOR VEHICLE THEFT',\n",
       " 'NARCOTICS',\n",
       " 'OTHER OFFENSE',\n",
       " 'ASSAULT',\n",
       " 'CRIMINAL DAMAGE',\n",
       " 'CRIMINAL TRESPASS',\n",
       " 'ROBBERY',\n",
       " 'WEAPONS VIOLATION',\n",
       " 'GAMBLING',\n",
       " 'INTERFERENCE WITH PUBLIC OFFICER',\n",
       " 'OFFENSE INVOLVING CHILDREN',\n",
       " 'ARSON',\n",
       " 'CRIM SEXUAL ASSAULT',\n",
       " 'DECEPTIVE PRACTICE',\n",
       " 'LIQUOR LAW VIOLATION',\n",
       " 'PROSTITUTION',\n",
       " 'SEX OFFENSE',\n",
       " 'PUBLIC PEACE VIOLATION',\n",
       " 'STALKING',\n",
       " 'KIDNAPPING',\n",
       " 'INTIMIDATION',\n",
       " 'OBSCENITY',\n",
       " 'HUMAN TRAFFICKING',\n",
       " 'HOMICIDE',\n",
       " 'OTHER NARCOTIC VIOLATION',\n",
       " 'CONCEALED CARRY LICENSE VIOLATION',\n",
       " 'NON-CRIMINAL',\n",
       " 'PUBLIC INDECENCY',\n",
       " 'RITUALISM',\n",
       " 'NON - CRIMINAL',\n",
       " 'NON-CRIMINAL (SUBJECT SPECIFIED)']"
      ]
     },
     "execution_count": 15,
     "metadata": {},
     "output_type": "execute_result"
    }
   ],
   "source": [
    "list(type_list)"
   ]
  },
  {
   "cell_type": "code",
   "execution_count": 16,
   "metadata": {},
   "outputs": [
    {
     "data": {
      "text/plain": [
       "163874"
      ]
     },
     "execution_count": 16,
     "metadata": {},
     "output_type": "execute_result"
    }
   ],
   "source": [
    "len(type_data[0].dropna(how = \"any\"))"
   ]
  },
  {
   "cell_type": "code",
   "execution_count": 17,
   "metadata": {
    "scrolled": false
   },
   "outputs": [
    {
     "data": {
      "text/plain": [
       "([<matplotlib.axis.XTick at 0x130691cc0>,\n",
       "  <matplotlib.axis.XTick at 0x1306915f8>,\n",
       "  <matplotlib.axis.XTick at 0x1306912b0>,\n",
       "  <matplotlib.axis.XTick at 0x130f57780>,\n",
       "  <matplotlib.axis.XTick at 0x130f57c50>,\n",
       "  <matplotlib.axis.XTick at 0x12d281160>,\n",
       "  <matplotlib.axis.XTick at 0x12d2816a0>,\n",
       "  <matplotlib.axis.XTick at 0x130f57ac8>,\n",
       "  <matplotlib.axis.XTick at 0x12d281240>],\n",
       " <a list of 9 Text xticklabel objects>)"
      ]
     },
     "execution_count": 17,
     "metadata": {},
     "output_type": "execute_result"
    },
    {
     "data": {
      "image/png": "[encoded data removed]",
      "text/plain": [
       "<Figure size 432x288 with 1 Axes>"
      ]
     },
     "metadata": {
      "needs_background": "light"
     },
     "output_type": "display_data"
    }
   ],
   "source": [
    "# 2 theft\n",
    "# 0 battery \n",
    "# 4 narcotics\n",
    "# 7 criminal damage\n",
    "# 16 deceptive practice \n",
    "\n",
    "x = 2\n",
    "theft_data = [len(data2001crime[x]),len(data2002crime[x]),len(data2003crime[x]),len(data2004crime[x]),len(data2005crime[x]),len(data2006crime[x]),len(data2007crime[x]),len(data2008crime[x]),len(data2009crime[x]),len(data2010crime[x]),len(data2011crime[x]),len(data2012crime[x]),len(data2013crime[x]),len(data2014crime[x]),len(data2015crime[x]),len(data2016crime[x]),len(data2017crime[x]),len(data2018crime[x])]\n",
    "x = 0\n",
    "battery_data = [len(data2001crime[x]),len(data2002crime[x]),len(data2003crime[x]),len(data2004crime[x]),len(data2005crime[x]),len(data2006crime[x]),len(data2007crime[x]),len(data2008crime[x]),len(data2009crime[x]),len(data2010crime[x]),len(data2011crime[x]),len(data2012crime[x]),len(data2013crime[x]),len(data2014crime[x]),len(data2015crime[x]),len(data2016crime[x]),len(data2017crime[x]),len(data2018crime[x])]\n",
    "x = 4\n",
    "narcotic_data = [len(data2001crime[x]),len(data2002crime[x]),len(data2003crime[x]),len(data2004crime[x]),len(data2005crime[x]),len(data2006crime[x]),len(data2007crime[x]),len(data2008crime[x]),len(data2009crime[x]),len(data2010crime[x]),len(data2011crime[x]),len(data2012crime[x]),len(data2013crime[x]),len(data2014crime[x]),len(data2015crime[x]),len(data2016crime[x]),len(data2017crime[x]),len(data2018crime[x])]\n",
    "x = 7\n",
    "damage_data = [len(data2001crime[x]),len(data2002crime[x]),len(data2003crime[x]),len(data2004crime[x]),len(data2005crime[x]),len(data2006crime[x]),len(data2007crime[x]),len(data2008crime[x]),len(data2009crime[x]),len(data2010crime[x]),len(data2011crime[x]),len(data2012crime[x]),len(data2013crime[x]),len(data2014crime[x]),len(data2015crime[x]),len(data2016crime[x]),len(data2017crime[x]),len(data2018crime[x])]\n",
    "x = 16\n",
    "deceptive_data = [len(data2001crime[x]),len(data2002crime[x]),len(data2003crime[x]),len(data2004crime[x]),len(data2005crime[x]),len(data2006crime[x]),len(data2007crime[x]),len(data2008crime[x]),len(data2009crime[x]),len(data2010crime[x]),len(data2011crime[x]),len(data2012crime[x]),len(data2013crime[x]),len(data2014crime[x]),len(data2015crime[x]),len(data2016crime[x]),len(data2017crime[x]),len(data2018crime[x])]\n",
    "\n",
    "\n",
    "\n",
    "plt.plot(list(range(2001,2019)), theft_data, linewidth =4)\n",
    "plt.plot(list(range(2001,2019)), deceptive_data, linewidth =4)\n",
    "plt.plot(list(range(2001,2019)), battery_data, linewidth =4)\n",
    "plt.plot(list(range(2001,2019)), narcotic_data, linewidth =4)\n",
    "plt.plot(list(range(2001,2019)), damage_data, linewidth =4)\n",
    "plt.title(\"Top Five Crime Rates Per Year Over Time\")\n",
    "plt.xlabel(\"2001 to Present\")\n",
    "plt.ylabel(\"Number of Offences\")\n",
    "plt.legend([\"Theft\",\"Deceptive Practice\",\"Battery\",\"Narcotics\",\"Criminal Damage\"] ,loc=(1.05,0.5))\n",
    "plt.xticks([2001,2003,2005,2007,2009,2011,2013,2015,2017])\n",
    "\n",
    "\n"
   ]
  },
  {
   "cell_type": "code",
   "execution_count": 18,
   "metadata": {},
   "outputs": [
    {
     "data": {
      "text/plain": [
       "Text(0, 0.5, 'Number of Offences')"
      ]
     },
     "execution_count": 18,
     "metadata": {},
     "output_type": "execute_result"
    },
    {
     "data": {
      "image/png": "[encoded data removed]",
      "text/plain": [
       "<Figure size 432x288 with 1 Axes>"
      ]
     },
     "metadata": {
      "needs_background": "light"
     },
     "output_type": "display_data"
    }
   ],
   "source": [
    "x = 12\n",
    "theft_data = [len(data2001crime[x]),len(data2002crime[x]),len(data2003crime[x]),len(data2004crime[x]),len(data2005crime[x]),len(data2006crime[x]),len(data2007crime[x]),len(data2008crime[x]),len(data2009crime[x]),len(data2010crime[x]),len(data2011crime[x]),len(data2012crime[x]),len(data2013crime[x]),len(data2014crime[x]),len(data2015crime[x]),len(data2016crime[x]),len(data2017crime[x]),len(data2018crime[x])]\n",
    "\n",
    "\n",
    "\n",
    "plt.plot(list(range(2001,2019)), theft_data)\n",
    "\n",
    "plt.title(\"Battery Over Time\")\n",
    "plt.xlabel(\"2001 to Present\")\n",
    "plt.ylabel(\"Number of Offences\")\n",
    "\n",
    "\n"
   ]
  },
  {
   "cell_type": "code",
   "execution_count": 19,
   "metadata": {},
   "outputs": [
    {
     "data": {
      "text/plain": [
       "Text(0, 0.5, 'Number of Offences')"
      ]
     },
     "execution_count": 19,
     "metadata": {},
     "output_type": "execute_result"
    },
    {
     "data": {
      "image/png": "[encoded data removed]",
      "text/plain": [
       "<Figure size 432x288 with 1 Axes>"
      ]
     },
     "metadata": {
      "needs_background": "light"
     },
     "output_type": "display_data"
    }
   ],
   "source": [
    "x = 4\n",
    "theft_data = [len(data2001crime[x]),len(data2002crime[x]),len(data2003crime[x]),len(data2004crime[x]),len(data2005crime[x]),len(data2006crime[x]),len(data2007crime[x]),len(data2008crime[x]),len(data2009crime[x]),len(data2010crime[x]),len(data2011crime[x]),len(data2012crime[x]),len(data2013crime[x]),len(data2014crime[x]),len(data2015crime[x]),len(data2016crime[x]),len(data2017crime[x]),len(data2018crime[x])]\n",
    "\n",
    "x = 16\n",
    "deceptive_data = [len(data2001crime[x]),len(data2002crime[x]),len(data2003crime[x]),len(data2004crime[x]),len(data2005crime[x]),len(data2006crime[x]),len(data2007crime[x]),len(data2008crime[x]),len(data2009crime[x]),len(data2010crime[x]),len(data2011crime[x]),len(data2012crime[x]),len(data2013crime[x]),len(data2014crime[x]),len(data2015crime[x]),len(data2016crime[x]),len(data2017crime[x]),len(data2018crime[x])]\n",
    "\n",
    "\n",
    "plt.plot(list(range(2001,2019)), theft_data)\n",
    "\n",
    "plt.title(\"Narcotics Over Time\")\n",
    "plt.xlabel(\"2001 to Present\")\n",
    "plt.ylabel(\"Number of Offences\")"
   ]
  },
  {
   "cell_type": "code",
   "execution_count": 20,
   "metadata": {},
   "outputs": [
    {
     "data": {
      "text/plain": [
       "Text(0, 0.5, 'Number of Offences')"
      ]
     },
     "execution_count": 20,
     "metadata": {},
     "output_type": "execute_result"
    },
    {
     "data": {
      "image/png": "[encoded data removed]",
      "text/plain": [
       "<Figure size 432x288 with 1 Axes>"
      ]
     },
     "metadata": {
      "needs_background": "light"
     },
     "output_type": "display_data"
    }
   ],
   "source": [
    "x = 7\n",
    "theft_data = [len(data2001crime[x]),len(data2002crime[x]),len(data2003crime[x]),len(data2004crime[x]),len(data2005crime[x]),len(data2006crime[x]),len(data2007crime[x]),len(data2008crime[x]),len(data2009crime[x]),len(data2010crime[x]),len(data2011crime[x]),len(data2012crime[x]),len(data2013crime[x]),len(data2014crime[x]),len(data2015crime[x]),len(data2016crime[x]),len(data2017crime[x]),len(data2018crime[x])]\n",
    "\n",
    "\n",
    "\n",
    "plt.plot(list(range(2001,2019)), theft_data)\n",
    "\n",
    "plt.title(\"Criminal Damage Over Time\")\n",
    "plt.xlabel(\"2001 to Present\")\n",
    "plt.ylabel(\"Number of Offences\")"
   ]
  },
  {
   "cell_type": "code",
   "execution_count": 21,
   "metadata": {},
   "outputs": [
    {
     "data": {
      "text/plain": [
       "Text(0, 0.5, 'Number of Offences')"
      ]
     },
     "execution_count": 21,
     "metadata": {},
     "output_type": "execute_result"
    },
    {
     "data": {
      "image/png": "[encoded data removed]",
      "text/plain": [
       "<Figure size 432x288 with 1 Axes>"
      ]
     },
     "metadata": {
      "needs_background": "light"
     },
     "output_type": "display_data"
    }
   ],
   "source": [
    "x = 16\n",
    "theft_data = [len(data2001crime[x]),len(data2002crime[x]),len(data2003crime[x]),len(data2004crime[x]),len(data2005crime[x]),len(data2006crime[x]),len(data2007crime[x]),len(data2008crime[x]),len(data2009crime[x]),len(data2010crime[x]),len(data2011crime[x]),len(data2012crime[x]),len(data2013crime[x]),len(data2014crime[x]),len(data2015crime[x]),len(data2016crime[x]),len(data2017crime[x]),len(data2018crime[x])]\n",
    "\n",
    "\n",
    "\n",
    "plt.plot(list(range(2001,2019)), theft_data)\n",
    "\n",
    "plt.title(\"Deceptive Practice Over Time\")\n",
    "plt.xlabel(\"2001 to Present\")\n",
    "plt.ylabel(\"Number of Offences\")"
   ]
  },
  {
   "cell_type": "code",
   "execution_count": 22,
   "metadata": {},
   "outputs": [],
   "source": [
    "a = len(data2001crime[x])"
   ]
  },
  {
   "cell_type": "code",
   "execution_count": 23,
   "metadata": {},
   "outputs": [],
   "source": [
    "b = len(data2018crime[x])"
   ]
  },
  {
   "cell_type": "code",
   "execution_count": 24,
   "metadata": {},
   "outputs": [
    {
     "data": {
      "text/plain": [
       "30.255564715581205"
      ]
     },
     "execution_count": 24,
     "metadata": {},
     "output_type": "execute_result"
    }
   ],
   "source": [
    "c = b-a\n",
    "d = 100 * c / a\n",
    "d"
   ]
  },
  {
   "cell_type": "code",
   "execution_count": 25,
   "metadata": {},
   "outputs": [
    {
     "data": {
      "text/plain": [
       "34"
      ]
     },
     "execution_count": 25,
     "metadata": {},
     "output_type": "execute_result"
    }
   ],
   "source": [
    "len(data2001crime)"
   ]
  },
  {
   "cell_type": "code",
   "execution_count": 26,
   "metadata": {},
   "outputs": [
    {
     "data": {
      "text/html": [
       "<div>\n",
       "<style scoped>\n",
       "    .dataframe tbody tr th:only-of-type {\n",
       "        vertical-align: middle;\n",
       "    }\n",
       "\n",
       "    .dataframe tbody tr th {\n",
       "        vertical-align: top;\n",
       "    }\n",
       "\n",
       "    .dataframe thead th {\n",
       "        text-align: right;\n",
       "    }\n",
       "</style>\n",
       "<table border=\"1\" class=\"dataframe\">\n",
       "  <thead>\n",
       "    <tr style=\"text-align: right;\">\n",
       "      <th></th>\n",
       "      <th>ID</th>\n",
       "      <th>Year</th>\n",
       "      <th>Primary Type</th>\n",
       "      <th>Latitude</th>\n",
       "      <th>Longitude</th>\n",
       "      <th>Location</th>\n",
       "      <th>Date</th>\n",
       "      <th>Location Description</th>\n",
       "    </tr>\n",
       "  </thead>\n",
       "  <tbody>\n",
       "    <tr>\n",
       "      <th>158481</th>\n",
       "      <td>1776131</td>\n",
       "      <td>2001</td>\n",
       "      <td>OBSCENITY</td>\n",
       "      <td>41.889924</td>\n",
       "      <td>-87.630035</td>\n",
       "      <td>(41.889923972, -87.63003532)</td>\n",
       "      <td>9/7/2001 12:33</td>\n",
       "      <td>SMALL RETAIL STORE</td>\n",
       "    </tr>\n",
       "    <tr>\n",
       "      <th>197406</th>\n",
       "      <td>1466682</td>\n",
       "      <td>2001</td>\n",
       "      <td>OBSCENITY</td>\n",
       "      <td>41.896613</td>\n",
       "      <td>-87.624812</td>\n",
       "      <td>(41.8966125, -87.624812347)</td>\n",
       "      <td>4/2/2001 21:00</td>\n",
       "      <td>STREET</td>\n",
       "    </tr>\n",
       "  </tbody>\n",
       "</table>\n",
       "</div>"
      ],
      "text/plain": [
       "             ID  Year Primary Type   Latitude  Longitude  \\\n",
       "158481  1776131  2001    OBSCENITY  41.889924 -87.630035   \n",
       "197406  1466682  2001    OBSCENITY  41.896613 -87.624812   \n",
       "\n",
       "                            Location            Date Location Description  \n",
       "158481  (41.889923972, -87.63003532)  9/7/2001 12:33   SMALL RETAIL STORE  \n",
       "197406   (41.8966125, -87.624812347)  4/2/2001 21:00               STREET  "
      ]
     },
     "execution_count": 26,
     "metadata": {},
     "output_type": "execute_result"
    }
   ],
   "source": [
    "data2001crime[24]"
   ]
  },
  {
   "cell_type": "code",
   "execution_count": 27,
   "metadata": {},
   "outputs": [
    {
     "data": {
      "image/png": "[encoded data removed]",
      "text/plain": [
       "<Figure size 432x288 with 1 Axes>"
      ]
     },
     "metadata": {
      "needs_background": "light"
     },
     "output_type": "display_data"
    }
   ],
   "source": [
    "diff_list = []\n",
    "absolute_value_diff_list =[]\n",
    "for x in list(range(0,25)) :   \n",
    "    theft_data = [len(data2001crime[x]),len(data2002crime[x]),len(data2003crime[x]),len(data2004crime[x]),len(data2005crime[x]),len(data2006crime[x]),len(data2007crime[x]),len(data2008crime[x]),len(data2009crime[x]),len(data2010crime[x]),len(data2011crime[x]),len(data2012crime[x]),len(data2013crime[x]),len(data2014crime[x]),len(data2015crime[x]),len(data2016crime[x]),len(data2017crime[x]),len(data2018crime[x])]\n",
    "    plt.plot(list(range(2001,2019)), theft_data)\n",
    "    a = len(data2001crime[x])\n",
    "    b = len(data2018crime[x])\n",
    "    c = b-a\n",
    "    d = 100 * c / a\n",
    "    f = math.sqrt(d**2)\n",
    "    absolute_value_diff_list.append(f)\n",
    "    diff_list.append(f\"{d}%\")\n",
    "    \n",
    "    \n",
    "    \n",
    "    \n",
    "    \n",
    "    "
   ]
  },
  {
   "cell_type": "code",
   "execution_count": 40,
   "metadata": {},
   "outputs": [
    {
     "data": {
      "text/html": [
       "<div>\n",
       "<style scoped>\n",
       "    .dataframe tbody tr th:only-of-type {\n",
       "        vertical-align: middle;\n",
       "    }\n",
       "\n",
       "    .dataframe tbody tr th {\n",
       "        vertical-align: top;\n",
       "    }\n",
       "\n",
       "    .dataframe thead th {\n",
       "        text-align: right;\n",
       "    }\n",
       "</style>\n",
       "<table border=\"1\" class=\"dataframe\">\n",
       "  <thead>\n",
       "    <tr style=\"text-align: right;\">\n",
       "      <th></th>\n",
       "      <th>ID</th>\n",
       "      <th>Year</th>\n",
       "      <th>Primary Type</th>\n",
       "      <th>Latitude</th>\n",
       "      <th>Longitude</th>\n",
       "      <th>Location</th>\n",
       "      <th>Date</th>\n",
       "      <th>Location Description</th>\n",
       "    </tr>\n",
       "  </thead>\n",
       "  <tbody>\n",
       "    <tr>\n",
       "      <th>5767</th>\n",
       "      <td>2437381</td>\n",
       "      <td>2002</td>\n",
       "      <td>OFFENSE INVOLVING CHILDREN</td>\n",
       "      <td>41.689875</td>\n",
       "      <td>-87.622231</td>\n",
       "      <td>(41.689875159, -87.62223072)</td>\n",
       "      <td>10/23/2002 10:00</td>\n",
       "      <td>SCHOOL, PUBLIC, BUILDING</td>\n",
       "    </tr>\n",
       "    <tr>\n",
       "      <th>6008</th>\n",
       "      <td>2102462</td>\n",
       "      <td>2002</td>\n",
       "      <td>OFFENSE INVOLVING CHILDREN</td>\n",
       "      <td>41.690779</td>\n",
       "      <td>-87.622356</td>\n",
       "      <td>(41.690778821, -87.622356236)</td>\n",
       "      <td>4/26/2002 16:40</td>\n",
       "      <td>STREET</td>\n",
       "    </tr>\n",
       "    <tr>\n",
       "      <th>6015</th>\n",
       "      <td>2242563</td>\n",
       "      <td>2002</td>\n",
       "      <td>OFFENSE INVOLVING CHILDREN</td>\n",
       "      <td>41.690779</td>\n",
       "      <td>-87.622356</td>\n",
       "      <td>(41.690778821, -87.622356236)</td>\n",
       "      <td>5/23/2002 0:00</td>\n",
       "      <td>APARTMENT</td>\n",
       "    </tr>\n",
       "    <tr>\n",
       "      <th>7398</th>\n",
       "      <td>2180391</td>\n",
       "      <td>2002</td>\n",
       "      <td>OFFENSE INVOLVING CHILDREN</td>\n",
       "      <td>41.685332</td>\n",
       "      <td>-87.622043</td>\n",
       "      <td>(41.685332125, -87.622042783)</td>\n",
       "      <td>6/11/2002 12:30</td>\n",
       "      <td>SCHOOL, PUBLIC, BUILDING</td>\n",
       "    </tr>\n",
       "    <tr>\n",
       "      <th>14878</th>\n",
       "      <td>2157115</td>\n",
       "      <td>2002</td>\n",
       "      <td>OFFENSE INVOLVING CHILDREN</td>\n",
       "      <td>41.791057</td>\n",
       "      <td>-87.623427</td>\n",
       "      <td>(41.791056977, -87.623427403)</td>\n",
       "      <td>5/29/2002 12:12</td>\n",
       "      <td>STREET</td>\n",
       "    </tr>\n",
       "  </tbody>\n",
       "</table>\n",
       "</div>"
      ],
      "text/plain": [
       "            ID  Year                Primary Type   Latitude  Longitude  \\\n",
       "5767   2437381  2002  OFFENSE INVOLVING CHILDREN  41.689875 -87.622231   \n",
       "6008   2102462  2002  OFFENSE INVOLVING CHILDREN  41.690779 -87.622356   \n",
       "6015   2242563  2002  OFFENSE INVOLVING CHILDREN  41.690779 -87.622356   \n",
       "7398   2180391  2002  OFFENSE INVOLVING CHILDREN  41.685332 -87.622043   \n",
       "14878  2157115  2002  OFFENSE INVOLVING CHILDREN  41.791057 -87.623427   \n",
       "\n",
       "                            Location              Date  \\\n",
       "5767    (41.689875159, -87.62223072)  10/23/2002 10:00   \n",
       "6008   (41.690778821, -87.622356236)   4/26/2002 16:40   \n",
       "6015   (41.690778821, -87.622356236)    5/23/2002 0:00   \n",
       "7398   (41.685332125, -87.622042783)   6/11/2002 12:30   \n",
       "14878  (41.791056977, -87.623427403)   5/29/2002 12:12   \n",
       "\n",
       "           Location Description  \n",
       "5767   SCHOOL, PUBLIC, BUILDING  \n",
       "6008                     STREET  \n",
       "6015                  APARTMENT  \n",
       "7398   SCHOOL, PUBLIC, BUILDING  \n",
       "14878                    STREET  "
      ]
     },
     "execution_count": 40,
     "metadata": {},
     "output_type": "execute_result"
    }
   ],
   "source": [
    "absolute_value_diff_list\n",
    "data2002crime[13].head()"
   ]
  },
  {
   "cell_type": "code",
   "execution_count": 36,
   "metadata": {},
   "outputs": [],
   "source": [
    "diff_list\n",
    "\n",
    "max_offender = \"INTERFERENCE WITH PUBLIC OFFICER\"\n",
    "max_percent = diff_list[12]\n",
    "\n",
    "min_offender = \"PROSTITUTION\"\n",
    "min_percent = diff_list[18]\n",
    "\n",
    "min_change_offender = \"OFFENSE INVOLVING CHILDREN\"\n",
    "min_change_percent = diff_list[13]"
   ]
  },
  {
   "cell_type": "code",
   "execution_count": 39,
   "metadata": {},
   "outputs": [
    {
     "data": {
      "text/plain": [
       "'-9.236947791164658%'"
      ]
     },
     "execution_count": 39,
     "metadata": {},
     "output_type": "execute_result"
    }
   ],
   "source": [
    "diff_list[13]\n"
   ]
  },
  {
   "cell_type": "code",
   "execution_count": 30,
   "metadata": {},
   "outputs": [
    {
     "ename": "SyntaxError",
     "evalue": "invalid syntax (<ipython-input-30-c08f46775a73>, line 1)",
     "output_type": "error",
     "traceback": [
      "\u001b[0;36m  File \u001b[0;32m\"<ipython-input-30-c08f46775a73>\"\u001b[0;36m, line \u001b[0;32m1\u001b[0m\n\u001b[0;31m    for x in\u001b[0m\n\u001b[0m             ^\u001b[0m\n\u001b[0;31mSyntaxError\u001b[0m\u001b[0;31m:\u001b[0m invalid syntax\n"
     ]
    }
   ],
   "source": [
    "for x in "
   ]
  },
  {
   "cell_type": "code",
   "execution_count": null,
   "metadata": {},
   "outputs": [],
   "source": [
    "math.sqrt((-4)**2)"
   ]
  },
  {
   "cell_type": "code",
   "execution_count": null,
   "metadata": {},
   "outputs": [],
   "source": [
    "a=5\n",
    "b=5"
   ]
  },
  {
   "cell_type": "code",
   "execution_count": null,
   "metadata": {},
   "outputs": [],
   "source": [
    "len(data2018)"
   ]
  },
  {
   "cell_type": "code",
   "execution_count": null,
   "metadata": {},
   "outputs": [],
   "source": [
    "len(data2019)"
   ]
  },
  {
   "cell_type": "code",
   "execution_count": null,
   "metadata": {},
   "outputs": [],
   "source": [
    "locations = data2019[['Latitude', 'Longitude']]"
   ]
  },
  {
   "cell_type": "code",
   "execution_count": null,
   "metadata": {},
   "outputs": [],
   "source": []
  },
  {
   "cell_type": "code",
   "execution_count": null,
   "metadata": {},
   "outputs": [],
   "source": []
  },
  {
   "cell_type": "code",
   "execution_count": null,
   "metadata": {},
   "outputs": [],
   "source": []
  }
 ],
 "metadata": {
  "kernelspec": {
   "display_name": "Python 3",
   "language": "python",
   "name": "python3"
  },
  "language_info": {
   "codemirror_mode": {
    "name": "ipython",
    "version": 3
   },
   "file_extension": ".py",
   "mimetype": "text/x-python",
   "name": "python",
   "nbconvert_exporter": "python",
   "pygments_lexer": "ipython3",
   "version": "3.6.8"
  }
 },
 "nbformat": 4,
 "nbformat_minor": 2
}
